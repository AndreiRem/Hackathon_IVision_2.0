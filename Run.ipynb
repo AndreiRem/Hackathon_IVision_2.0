{
 "cells": [
  {
   "cell_type": "code",
   "execution_count": 1,
   "metadata": {
    "id": "W4rPthxP2gr4"
   },
   "outputs": [],
   "source": [
    "import os\n",
    "import cv2\n",
    "import numpy as np\n",
    "from scipy.stats import mode\n",
    "import tensorflow as tf"
   ]
  },
  {
   "cell_type": "markdown",
   "metadata": {
    "id": "abgyDCa-rBZB"
   },
   "source": [
    "# 0. Настройка основных параметров"
   ]
  },
  {
   "cell_type": "code",
   "execution_count": 2,
   "metadata": {
    "id": "kV6zvH1A5LAF"
   },
   "outputs": [],
   "source": [
    "# Main folder path\n",
    "PROJECT_FOLDER = '.'\n",
    "\n",
    "# Other folders\n",
    "DATA_FOLDER = os.path.join(PROJECT_FOLDER, 'dataset')\n",
    "MODEL_PATH = os.path.join(PROJECT_FOLDER, 'ModelTF.h5')"
   ]
  },
  {
   "cell_type": "code",
   "execution_count": 3,
   "metadata": {
    "id": "rc-GHehq6Xrm"
   },
   "outputs": [],
   "source": [
    "# Model params\n",
    "BATCH_SIZE = 100\n",
    "IMAGE_SIZE = (250, 250)  # im_height, im_width"
   ]
  },
  {
   "cell_type": "markdown",
   "metadata": {
    "id": "Q3hJOfIr7GXv"
   },
   "source": [
    "# 1. Загрузка модели"
   ]
  },
  {
   "cell_type": "code",
   "execution_count": 4,
   "metadata": {
    "colab": {
     "base_uri": "https://localhost:8080/",
     "height": 345
    },
    "id": "-hIgVP477tQT",
    "outputId": "4b0fae3d-ae1c-44d8-b2df-f5c6eaecb863"
   },
   "outputs": [],
   "source": [
    "MyCnn = tf.keras.models.load_model(\n",
    "    MODEL_PATH, custom_objects=None, compile=True, options=None\n",
    ")"
   ]
  },
  {
   "cell_type": "markdown",
   "metadata": {
    "id": "ZI2auXVjpIop"
   },
   "source": [
    "# 2. Скоринг видео"
   ]
  },
  {
   "cell_type": "code",
   "execution_count": 5,
   "metadata": {
    "id": "LnN1ju7E7Ci5"
   },
   "outputs": [],
   "source": [
    "def predict_video(model, video_path, th=0.011):\n",
    "    cap = cv2.VideoCapture(video_path)\n",
    "    batch = []\n",
    "    probs_0 = []  # accident\n",
    "    probs_1 = []  # no accident\n",
    "\n",
    "    while(cap.isOpened()):\n",
    "        ret, frame = cap.read()\n",
    "        if len(batch) < BATCH_SIZE and ret == True:\n",
    "            batch.append(cv2.resize(frame, IMAGE_SIZE))\n",
    "        elif len(batch) >= BATCH_SIZE or ret == False:\n",
    "            batch = tf.convert_to_tensor(batch, dtype=None, dtype_hint=None, name=None)\n",
    "            predictions = model.predict(batch)\n",
    "\n",
    "            probs_0.append(predictions[:,0])\n",
    "            probs_1.append(predictions[:,1])\n",
    "\n",
    "            batch = []\n",
    "\n",
    "        if ret == False:\n",
    "            break\n",
    "\n",
    "    cap.release()\n",
    "\n",
    "    probs_0, probs_1 = np.concatenate(probs_0), np.concatenate(probs_1)\n",
    "    evr = probs_0[probs_0 >= mode(probs_0)[0][0]].std()\n",
    "\n",
    "    if evr >= th:\n",
    "        print('Авария!')\n",
    "\n",
    "    else:\n",
    "        print('Нет аварии!')"
   ]
  },
  {
   "cell_type": "code",
   "execution_count": 6,
   "metadata": {
    "colab": {
     "base_uri": "https://localhost:8080/"
    },
    "id": "lWf-5hWvpyK_",
    "outputId": "d08c1b87-0606-43e4-bf07-38a3e5dbbb82",
    "scrolled": true
   },
   "outputs": [
    {
     "name": "stdout",
     "output_type": "stream",
     "text": [
      "Авария!\n"
     ]
    }
   ],
   "source": [
    "VIDEOS_FOLDER = os.path.join(DATA_FOLDER, 'videos')\n",
    "VIDEO_PATH = os.path.join(VIDEOS_FOLDER, '1.mp4')\n",
    "\n",
    "predict_video(MyCnn, VIDEO_PATH)"
   ]
  }
 ],
 "metadata": {
  "colab": {
   "collapsed_sections": [],
   "name": "Run.ipynb",
   "provenance": []
  },
  "kernelspec": {
   "display_name": "Python 3",
   "language": "python",
   "name": "python3"
  },
  "language_info": {
   "codemirror_mode": {
    "name": "ipython",
    "version": 3
   },
   "file_extension": ".py",
   "mimetype": "text/x-python",
   "name": "python",
   "nbconvert_exporter": "python",
   "pygments_lexer": "ipython3",
   "version": "3.8.6"
  }
 },
 "nbformat": 4,
 "nbformat_minor": 1
}
