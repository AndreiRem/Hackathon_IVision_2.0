{
  "nbformat": 4,
  "nbformat_minor": 0,
  "metadata": {
    "colab": {
      "name": "Run.ipynb",
      "provenance": [],
      "collapsed_sections": []
    },
    "kernelspec": {
      "name": "python3",
      "display_name": "Python 3"
    },
    "language_info": {
      "name": "python"
    }
  },
  "cells": [
    {
      "cell_type": "code",
      "execution_count": null,
      "metadata": {
        "id": "W4rPthxP2gr4"
      },
      "outputs": [],
      "source": [
        "import os\n",
        "\n",
        "import cv2\n",
        "import numpy as np\n",
        "import scipy\n",
        "\n",
        "import tensorflow as tf"
      ]
    },
    {
      "cell_type": "markdown",
      "source": [
        "# 0. Настройка основных параметров"
      ],
      "metadata": {
        "id": "abgyDCa-rBZB"
      }
    },
    {
      "cell_type": "code",
      "source": [
        "# Main folder path\n",
        "PROJECT_FOLDER = '/content/drive/MyDrive/AI/IVision'"
      ],
      "metadata": {
        "id": "5ClXNeFerFP9"
      },
      "execution_count": null,
      "outputs": []
    },
    {
      "cell_type": "code",
      "source": [
        "# Other folders\n",
        "DATA_FOLDER = os.path.join(PROJECT_FOLDER, 'datasets')\n",
        "\n",
        "MODEL_FOLDER = os.path.join(PROJECT_FOLDER, 'model')\n",
        "MODEL_PATH = os.path.join(MODEL_FOLDER, 'ModelTF.h5')"
      ],
      "metadata": {
        "id": "kV6zvH1A5LAF"
      },
      "execution_count": null,
      "outputs": []
    },
    {
      "cell_type": "code",
      "source": [
        "# Model params\n",
        "BATCH_SIZE = 100\n",
        "IMAGE_SIZE = (250, 250)  # im_height, im_width"
      ],
      "metadata": {
        "id": "rc-GHehq6Xrm"
      },
      "execution_count": null,
      "outputs": []
    },
    {
      "cell_type": "code",
      "source": [
        "VIDEO_PATH = os.path.join(DATA_FOLDER, '1.mp4')"
      ],
      "metadata": {
        "id": "aALkiVDIpBQ2"
      },
      "execution_count": null,
      "outputs": []
    },
    {
      "cell_type": "markdown",
      "source": [
        "# 1. Загрузка модели"
      ],
      "metadata": {
        "id": "Q3hJOfIr7GXv"
      }
    },
    {
      "cell_type": "code",
      "source": [
        "MyCnn = tf.keras.models.load_model(\n",
        "    MODEL_PATH, custom_objects=None, compile=True, options=None\n",
        ")"
      ],
      "metadata": {
        "id": "-hIgVP477tQT",
        "colab": {
          "base_uri": "https://localhost:8080/",
          "height": 345
        },
        "outputId": "4b0fae3d-ae1c-44d8-b2df-f5c6eaecb863"
      },
      "execution_count": null,
      "outputs": [
        {
          "output_type": "error",
          "ename": "OSError",
          "evalue": "ignored",
          "traceback": [
            "\u001b[0;31m---------------------------------------------------------------------------\u001b[0m",
            "\u001b[0;31mOSError\u001b[0m                                   Traceback (most recent call last)",
            "\u001b[0;32m<ipython-input-8-35a97b0cfc02>\u001b[0m in \u001b[0;36m<module>\u001b[0;34m()\u001b[0m\n\u001b[1;32m      1\u001b[0m MyCnn = tf.keras.models.load_model(\n\u001b[0;32m----> 2\u001b[0;31m     \u001b[0mMODEL_PATH\u001b[0m\u001b[0;34m,\u001b[0m \u001b[0mcustom_objects\u001b[0m\u001b[0;34m=\u001b[0m\u001b[0;32mNone\u001b[0m\u001b[0;34m,\u001b[0m \u001b[0mcompile\u001b[0m\u001b[0;34m=\u001b[0m\u001b[0;32mTrue\u001b[0m\u001b[0;34m,\u001b[0m \u001b[0moptions\u001b[0m\u001b[0;34m=\u001b[0m\u001b[0;32mNone\u001b[0m\u001b[0;34m\u001b[0m\u001b[0;34m\u001b[0m\u001b[0m\n\u001b[0m\u001b[1;32m      3\u001b[0m )\n",
            "\u001b[0;32m/usr/local/lib/python3.7/dist-packages/keras/utils/traceback_utils.py\u001b[0m in \u001b[0;36merror_handler\u001b[0;34m(*args, **kwargs)\u001b[0m\n\u001b[1;32m     65\u001b[0m     \u001b[0;32mexcept\u001b[0m \u001b[0mException\u001b[0m \u001b[0;32mas\u001b[0m \u001b[0me\u001b[0m\u001b[0;34m:\u001b[0m  \u001b[0;31m# pylint: disable=broad-except\u001b[0m\u001b[0;34m\u001b[0m\u001b[0;34m\u001b[0m\u001b[0m\n\u001b[1;32m     66\u001b[0m       \u001b[0mfiltered_tb\u001b[0m \u001b[0;34m=\u001b[0m \u001b[0m_process_traceback_frames\u001b[0m\u001b[0;34m(\u001b[0m\u001b[0me\u001b[0m\u001b[0;34m.\u001b[0m\u001b[0m__traceback__\u001b[0m\u001b[0;34m)\u001b[0m\u001b[0;34m\u001b[0m\u001b[0;34m\u001b[0m\u001b[0m\n\u001b[0;32m---> 67\u001b[0;31m       \u001b[0;32mraise\u001b[0m \u001b[0me\u001b[0m\u001b[0;34m.\u001b[0m\u001b[0mwith_traceback\u001b[0m\u001b[0;34m(\u001b[0m\u001b[0mfiltered_tb\u001b[0m\u001b[0;34m)\u001b[0m \u001b[0;32mfrom\u001b[0m \u001b[0;32mNone\u001b[0m\u001b[0;34m\u001b[0m\u001b[0;34m\u001b[0m\u001b[0m\n\u001b[0m\u001b[1;32m     68\u001b[0m     \u001b[0;32mfinally\u001b[0m\u001b[0;34m:\u001b[0m\u001b[0;34m\u001b[0m\u001b[0;34m\u001b[0m\u001b[0m\n\u001b[1;32m     69\u001b[0m       \u001b[0;32mdel\u001b[0m \u001b[0mfiltered_tb\u001b[0m\u001b[0;34m\u001b[0m\u001b[0;34m\u001b[0m\u001b[0m\n",
            "\u001b[0;32m/usr/local/lib/python3.7/dist-packages/keras/saving/save.py\u001b[0m in \u001b[0;36mload_model\u001b[0;34m(filepath, custom_objects, compile, options)\u001b[0m\n\u001b[1;32m    207\u001b[0m         \u001b[0;32mif\u001b[0m \u001b[0misinstance\u001b[0m\u001b[0;34m(\u001b[0m\u001b[0mfilepath\u001b[0m\u001b[0;34m,\u001b[0m \u001b[0mstr\u001b[0m\u001b[0;34m)\u001b[0m\u001b[0;34m:\u001b[0m\u001b[0;34m\u001b[0m\u001b[0;34m\u001b[0m\u001b[0m\n\u001b[1;32m    208\u001b[0m           \u001b[0;32mif\u001b[0m \u001b[0;32mnot\u001b[0m \u001b[0mtf\u001b[0m\u001b[0;34m.\u001b[0m\u001b[0mio\u001b[0m\u001b[0;34m.\u001b[0m\u001b[0mgfile\u001b[0m\u001b[0;34m.\u001b[0m\u001b[0mexists\u001b[0m\u001b[0;34m(\u001b[0m\u001b[0mfilepath\u001b[0m\u001b[0;34m)\u001b[0m\u001b[0;34m:\u001b[0m\u001b[0;34m\u001b[0m\u001b[0;34m\u001b[0m\u001b[0m\n\u001b[0;32m--> 209\u001b[0;31m             \u001b[0;32mraise\u001b[0m \u001b[0mIOError\u001b[0m\u001b[0;34m(\u001b[0m\u001b[0;34mf'No file or directory found at {filepath}'\u001b[0m\u001b[0;34m)\u001b[0m\u001b[0;34m\u001b[0m\u001b[0;34m\u001b[0m\u001b[0m\n\u001b[0m\u001b[1;32m    210\u001b[0m           \u001b[0;32mif\u001b[0m \u001b[0msaving_utils\u001b[0m\u001b[0;34m.\u001b[0m\u001b[0mis_hdf5_filepath\u001b[0m\u001b[0;34m(\u001b[0m\u001b[0mfilepath\u001b[0m\u001b[0;34m)\u001b[0m \u001b[0;32mand\u001b[0m \u001b[0mh5py\u001b[0m \u001b[0;32mis\u001b[0m \u001b[0;32mNone\u001b[0m\u001b[0;34m:\u001b[0m\u001b[0;34m\u001b[0m\u001b[0;34m\u001b[0m\u001b[0m\n\u001b[1;32m    211\u001b[0m             raise ImportError(\n",
            "\u001b[0;31mOSError\u001b[0m: No file or directory found at /content/drive/MyDrive/AI/IVision/model/ModelTF.h5"
          ]
        }
      ]
    },
    {
      "cell_type": "markdown",
      "source": [
        "# 2. Скоринг видео"
      ],
      "metadata": {
        "id": "ZI2auXVjpIop"
      }
    },
    {
      "cell_type": "code",
      "source": [
        "def predict_video(model, video_path, th=0.011):\n",
        "\n",
        "  cap = cv2.VideoCapture(video_path)\n",
        "  batch = []\n",
        "  probs_0 = []  # accident\n",
        "  probs_1 = []  # no accident\n",
        "\n",
        "  while(cap.isOpened()):\n",
        "      ret, frame = cap.read()\n",
        "      if len(batch) < BATCH_SIZE and ret == True:\n",
        "        batch.append(cv2.resize(frame, IMAGE_SIZE))\n",
        "\n",
        "      elif len(batch) >= BATCH_SIZE or ret == False:\n",
        "        batch = tf.convert_to_tensor(batch, dtype=None, dtype_hint=None, name=None)\n",
        "        predictions = model.predict(batch)\n",
        "\n",
        "        probs_0.append(predictions[:,0])\n",
        "        probs_1.append(predictions[:,1])\n",
        "\n",
        "        batch = []\n",
        "\n",
        "      if ret == False:\n",
        "        break\n",
        "  \n",
        "  cap.release()\n",
        "\n",
        "  probs_0, probs_1 = np.concatenate(probs_0), np.concatenate(probs_1)\n",
        "  evr = probs_0[probs_0 >= scipy.stats.mode(probs_0)[0][0]].std()\n",
        "\n",
        "  if evr >= th:\n",
        "    print('Авария!')\n",
        "  \n",
        "  else:\n",
        "    print('Нет аварии!')\n",
        "  \n",
        "  return"
      ],
      "metadata": {
        "id": "LnN1ju7E7Ci5"
      },
      "execution_count": null,
      "outputs": []
    },
    {
      "cell_type": "code",
      "source": [
        "predict_video(MyCnn, VIDEO_PATH)"
      ],
      "metadata": {
        "colab": {
          "base_uri": "https://localhost:8080/"
        },
        "id": "lWf-5hWvpyK_",
        "outputId": "d08c1b87-0606-43e4-bf07-38a3e5dbbb82"
      },
      "execution_count": null,
      "outputs": [
        {
          "output_type": "stream",
          "name": "stdout",
          "text": [
            "Авария!\n"
          ]
        }
      ]
    },
    {
      "cell_type": "code",
      "source": [
        ""
      ],
      "metadata": {
        "id": "VAKC2vaoqS8l"
      },
      "execution_count": null,
      "outputs": []
    }
  ]
}