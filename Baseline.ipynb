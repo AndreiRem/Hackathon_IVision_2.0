{
 "cells": [
  {
   "cell_type": "code",
   "execution_count": 1,
   "metadata": {
    "id": "W4rPthxP2gr4"
   },
   "outputs": [],
   "source": [
    "import os\n",
    "\n",
    "import cv2\n",
    "import numpy as np\n",
    "import pandas as pd\n",
    "from scipy.stats import mode\n",
    "\n",
    "import tensorflow as tf\n",
    "from tensorflow.keras import layers\n",
    "import matplotlib.pyplot as plt\n",
    "from tqdm import tqdm"
   ]
  },
  {
   "cell_type": "markdown",
   "metadata": {
    "id": "abgyDCa-rBZB"
   },
   "source": [
    "# 0. Настройка основных параметров"
   ]
  },
  {
   "cell_type": "code",
   "execution_count": 2,
   "metadata": {
    "id": "5ClXNeFerFP9"
   },
   "outputs": [],
   "source": [
    "# Main folder path\n",
    "PROJECT_FOLDER = '.'"
   ]
  },
  {
   "cell_type": "code",
   "execution_count": 3,
   "metadata": {
    "id": "kV6zvH1A5LAF"
   },
   "outputs": [],
   "source": [
    "# Other folders\n",
    "DATA_FOLDER = os.path.join(PROJECT_FOLDER, 'dataset')\n",
    "DATA_CSV = os.path.join(PROJECT_FOLDER, 'data.csv')\n",
    "\n",
    "DATASETS_FOLDERS = {\n",
    "    'train': os.path.join(DATA_FOLDER, 'train'),\n",
    "    'val': os.path.join(DATA_FOLDER, 'val'),\n",
    "    'test': os.path.join(DATA_FOLDER, 'test')\n",
    "}\n",
    "VIDEOS_FOLDER = os.path.join(DATA_FOLDER, 'videos') \n",
    "MODEL_FOLDER = os.path.join(PROJECT_FOLDER, 'model')\n",
    "if not os.path.exists(MODEL_FOLDER):\n",
    "    os.mkdir(MODEL_FOLDER)\n",
    "MODEL_PATH = os.path.join(PROJECT_FOLDER, 'ModelTF.h5')"
   ]
  },
  {
   "cell_type": "code",
   "execution_count": 4,
   "metadata": {
    "id": "rc-GHehq6Xrm"
   },
   "outputs": [],
   "source": [
    "# Model params\n",
    "BATCH_SIZE = 100\n",
    "IMAGE_SIZE = (250, 250)  # im_height, im_width"
   ]
  },
  {
   "cell_type": "markdown",
   "metadata": {
    "id": "Q3hJOfIr7GXv"
   },
   "source": [
    "# 1. Данные"
   ]
  },
  {
   "cell_type": "markdown",
   "metadata": {
    "id": "0__7KIjl7OAn"
   },
   "source": [
    "## 1.1. Загрузка данных"
   ]
  },
  {
   "cell_type": "code",
   "execution_count": 5,
   "metadata": {
    "colab": {
     "base_uri": "https://localhost:8080/"
    },
    "id": "-hIgVP477tQT",
    "outputId": "2e2581a1-4a55-4e9b-b50a-5c2dc8cf855c"
   },
   "outputs": [
    {
     "data": {
      "text/plain": [
       "{'train': './dataset/train', 'val': './dataset/val', 'test': './dataset/test'}"
      ]
     },
     "execution_count": 5,
     "metadata": {},
     "output_type": "execute_result"
    }
   ],
   "source": [
    "# Create dict with dataset folders\n",
    "for k, v in DATASETS_FOLDERS.items():\n",
    "    if not os.path.exists(v):\n",
    "        print(f\"Dataset '{k}' with folder '{v}' doesn't exists!\")\n",
    "\n",
    "DATASETS_FOLDERS"
   ]
  },
  {
   "cell_type": "code",
   "execution_count": 6,
   "metadata": {
    "colab": {
     "base_uri": "https://localhost:8080/"
    },
    "id": "LnN1ju7E7Ci5",
    "outputId": "157356f5-6531-43ad-bd19-717d1e07ce79"
   },
   "outputs": [
    {
     "name": "stdout",
     "output_type": "stream",
     "text": [
      "Found 2129 files belonging to 2 classes.\n",
      "Found 797 files belonging to 2 classes.\n",
      "Found 341 files belonging to 2 classes.\n"
     ]
    },
    {
     "data": {
      "text/plain": [
       "{'train': <BatchDataset shapes: ((None, 250, 250, 3), (None,)), types: (tf.float32, tf.int32)>,\n",
       " 'val': <BatchDataset shapes: ((None, 250, 250, 3), (None,)), types: (tf.float32, tf.int32)>,\n",
       " 'test': <BatchDataset shapes: ((None, 250, 250, 3), (None,)), types: (tf.float32, tf.int32)>}"
      ]
     },
     "execution_count": 6,
     "metadata": {},
     "output_type": "execute_result"
    }
   ],
   "source": [
    "# Create datasets: 'train', 'val' and 'test'\n",
    "datasets = {}\n",
    "\n",
    "for dataset_type, dataset_folder in DATASETS_FOLDERS.items():\n",
    "    datasets[dataset_type] = tf.keras.preprocessing.image_dataset_from_directory(\n",
    "        dataset_folder,\n",
    "        seed=42,\n",
    "        image_size = IMAGE_SIZE,\n",
    "        batch_size = BATCH_SIZE\n",
    "    )\n",
    "\n",
    "datasets"
   ]
  },
  {
   "cell_type": "markdown",
   "metadata": {
    "id": "HzmRDjNx93Pz"
   },
   "source": [
    "## 1.2. Настройка наборов данных"
   ]
  },
  {
   "cell_type": "code",
   "execution_count": 7,
   "metadata": {
    "id": "d9CzoBLS917m"
   },
   "outputs": [],
   "source": [
    "class_names = datasets['train'].class_names\n",
    "\n",
    "AUTOTUNE = tf.data.experimental.AUTOTUNE\n",
    "datasets['train'] = datasets['train'].cache().prefetch(buffer_size=AUTOTUNE)\n",
    "datasets['test'] = datasets['test'].prefetch(buffer_size=AUTOTUNE)"
   ]
  },
  {
   "cell_type": "markdown",
   "metadata": {
    "id": "rYm_tbfR7NiY"
   },
   "source": [
    "# 2. Модель"
   ]
  },
  {
   "cell_type": "markdown",
   "metadata": {
    "id": "SQUcpY8LpKMH"
   },
   "source": [
    "Добавим для модели дополнительно 3 аугментации: GaussianNoise, горизонтальный RandomFlip и RandomContrast."
   ]
  },
  {
   "cell_type": "code",
   "execution_count": 8,
   "metadata": {
    "id": "VAA6Uc7-7Dab"
   },
   "outputs": [],
   "source": [
    "MyCnn = tf.keras.models.Sequential([\n",
    "  layers.GaussianNoise(0.2),\n",
    "  layers.RandomFlip(mode='horizontal'),\n",
    "  layers.RandomContrast(factor=[0.2, 0.4]),\n",
    "  \n",
    "  layers.BatchNormalization(),\n",
    "  layers.Conv2D(32, 3, activation='relu'),\n",
    "  layers.MaxPooling2D(),\n",
    "  layers.Conv2D(64, 3, activation='relu'),\n",
    "  layers.MaxPooling2D(),\n",
    "  layers.Conv2D(128, 3, activation='relu'),\n",
    "  layers.MaxPooling2D(),\n",
    "  layers.Flatten(),\n",
    "  layers.Dense(256, activation='relu'),\n",
    "  layers.Dense(len(class_names), activation= 'softmax')\n",
    "])\n",
    "\n",
    "MyCnn.compile(optimizer='adam',loss='sparse_categorical_crossentropy', metrics=['accuracy'])"
   ]
  },
  {
   "cell_type": "markdown",
   "metadata": {
    "id": "BnJ5GhRO-Pha"
   },
   "source": [
    "# 3. Обучение"
   ]
  },
  {
   "cell_type": "markdown",
   "metadata": {
    "id": "3aok0jA6pczw"
   },
   "source": [
    "## 3.1. Процесс обучения"
   ]
  },
  {
   "cell_type": "markdown",
   "metadata": {
    "id": "rt06_qf3pmou"
   },
   "source": [
    "Настроим сохранение модели по максимальному значению метрики `val_accuracy`."
   ]
  },
  {
   "cell_type": "code",
   "execution_count": 9,
   "metadata": {
    "id": "pRJZm1OTvIm7"
   },
   "outputs": [],
   "source": [
    "checkpoint_filepath = os.path.join(\n",
    "    MODEL_FOLDER, 'weights.epoch:{epoch:02d}-val_loss:{val_loss:.2f}-val_accuracy:{val_accuracy:.2f}.h5'\n",
    ")\n",
    "model_checkpoint_callback = tf.keras.callbacks.ModelCheckpoint(\n",
    "    filepath=checkpoint_filepath,\n",
    "    monitor='val_accuracy',\n",
    "    mode='max',\n",
    "    save_best_only=True)"
   ]
  },
  {
   "cell_type": "markdown",
   "metadata": {
    "id": "fvGZuKxKpzgp"
   },
   "source": [
    "Процесс обучения классификатора"
   ]
  },
  {
   "cell_type": "code",
   "execution_count": 23,
   "metadata": {
    "colab": {
     "base_uri": "https://localhost:8080/"
    },
    "id": "V5cfCeYt-M1m",
    "outputId": "085faa04-e290-4a0d-b88b-57812feeb703"
   },
   "outputs": [],
   "source": [
    "retVal = MyCnn.fit(datasets['train'],\n",
    "                   validation_data = datasets['val'],\n",
    "                   epochs = 20,\n",
    "                   callbacks=[model_checkpoint_callback])"
   ]
  },
  {
   "attachments": {},
   "cell_type": "markdown",
   "metadata": {
    "id": "GGrSm_TultmL"
   },
   "source": [
    "История обучения модели:\n",
    "```\n",
    "\n",
    "Epoch 1/20\n",
    "14/14 [==============================] - 216s 15s/step - loss: 3.7267 - accuracy: 0.6861 - val_loss: 1.3614 - val_accuracy: 0.8169\n",
    "Epoch 2/20\n",
    "14/14 [==============================] - 210s 15s/step - loss: 0.4199 - accuracy: 0.8064 - val_loss: 0.7579 - val_accuracy: 0.8169\n",
    "Epoch 3/20\n",
    "14/14 [==============================] - 218s 16s/step - loss: 0.3155 - accuracy: 0.8445 - val_loss: 1.0112 - val_accuracy: 0.8169\n",
    "Epoch 4/20\n",
    "14/14 [==============================] - 209s 15s/step - loss: 0.2727 - accuracy: 0.8430 - val_loss: 0.6529 - val_accuracy: 0.8169\n",
    "Epoch 5/20\n",
    "14/14 [==============================] - 213s 15s/step - loss: 0.2459 - accuracy: 0.8595 - val_loss: 0.8130 - val_accuracy: 0.8169\n",
    "Epoch 6/20\n",
    "14/14 [==============================] - 217s 16s/step - loss: 0.2387 - accuracy: 0.8617 - val_loss: 0.7810 - val_accuracy: 0.8169\n",
    "Epoch 7/20\n",
    "14/14 [==============================] - 208s 15s/step - loss: 0.2208 - accuracy: 0.8827 - val_loss: 0.7654 - val_accuracy: 0.8083\n",
    "Epoch 8/20\n",
    "14/14 [==============================] - 215s 16s/step - loss: 0.1905 - accuracy: 0.9111 - val_loss: 0.8522 - val_accuracy: 0.7353\n",
    "Epoch 9/20\n",
    "14/14 [==============================] - 212s 15s/step - loss: 0.1809 - accuracy: 0.9088 - val_loss: 0.9512 - val_accuracy: 0.8441\n",
    "Epoch 10/20\n",
    "14/14 [==============================] - 210s 15s/step - loss: 0.1708 - accuracy: 0.9185 - val_loss: 0.9027 - val_accuracy: 0.7482\n",
    "Epoch 11/20\n",
    "14/14 [==============================] - 218s 16s/step - loss: 0.1700 - accuracy: 0.9170 - val_loss: 0.9019 - val_accuracy: 0.6295\n",
    "Epoch 12/20\n",
    "14/14 [==============================] - 213s 15s/step - loss: 0.1268 - accuracy: 0.9462 - val_loss: 1.1481 - val_accuracy: 0.6695\n",
    "Epoch 13/20\n",
    "14/14 [==============================] - 212s 15s/step - loss: 0.1198 - accuracy: 0.9544 - val_loss: 1.1899 - val_accuracy: 0.6423\n",
    "Epoch 14/20\n",
    "14/14 [==============================] - 210s 15s/step - loss: 0.1091 - accuracy: 0.9596 - val_loss: 1.4326 - val_accuracy: 0.6753\n",
    "Epoch 15/20\n",
    "14/14 [==============================] - 209s 15s/step - loss: 0.0979 - accuracy: 0.9589 - val_loss: 1.4714 - val_accuracy: 0.6681\n",
    "Epoch 16/20\n",
    "14/14 [==============================] - 215s 16s/step - loss: 0.0883 - accuracy: 0.9656 - val_loss: 1.4901 - val_accuracy: 0.6638\n",
    "Epoch 17/20\n",
    "14/14 [==============================] - 209s 15s/step - loss: 0.0888 - accuracy: 0.9567 - val_loss: 1.2664 - val_accuracy: 0.6767\n",
    "Epoch 18/20\n",
    "14/14 [==============================] - 211s 15s/step - loss: 0.0987 - accuracy: 0.9581 - val_loss: 1.3851 - val_accuracy: 0.5637\n",
    "Epoch 19/20\n",
    "14/14 [==============================] - 213s 15s/step - loss: 0.0724 - accuracy: 0.9694 - val_loss: 1.6362 - val_accuracy: 0.6166\n",
    "Epoch 20/20\n",
    "14/14 [==============================] - 210s 15s/step - loss: 0.0621 - accuracy: 0.9723 - val_loss: 1.6325 - val_accuracy: 0.5851\n",
    "```"
   ]
  },
  {
   "cell_type": "code",
   "execution_count": 26,
   "metadata": {
    "colab": {
     "base_uri": "https://localhost:8080/",
     "height": 513
    },
    "id": "6_wFnOG_s5QJ",
    "outputId": "b7033aa9-430c-4c20-ad9d-ccc51b1c86d5"
   },
   "outputs": [],
   "source": [
    "# Train data plot\n",
    "plt.plot(retVal.history['loss'], label = 'training loss')\n",
    "plt.plot(retVal.history['accuracy'], label = 'training accuracy')\n",
    "plt.grid(True)\n",
    "plt.legend()\n",
    "plt.show()\n",
    "\n",
    "# Val data plot\n",
    "plt.plot(retVal.history['val_loss'], label = 'validation loss')\n",
    "plt.plot(retVal.history['val_accuracy'], label = 'validation accuracy')\n",
    "plt.grid(True)\n",
    "plt.legend()\n",
    "plt.show()"
   ]
  },
  {
   "cell_type": "markdown",
   "metadata": {},
   "source": [
    "![image.png](data:image/png;base64,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)\n",
    "\n",
    "![image.png](data:image/png;base64,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)"
   ]
  },
  {
   "cell_type": "markdown",
   "metadata": {
    "id": "32a4bWICqJzt"
   },
   "source": [
    "## 3.2. Загрузка лучших весов"
   ]
  },
  {
   "cell_type": "code",
   "execution_count": 12,
   "metadata": {
    "id": "yNFiLOBFLs3f"
   },
   "outputs": [],
   "source": [
    "def sort_func(x):\n",
    "    _, val_loss, val_acc = x[:-3].split('-')\n",
    "    val_loss = float(val_loss.split(':')[-1])\n",
    "    val_acc = float(val_acc.split(':')[-1])\n",
    "\n",
    "    return 1-val_acc, val_loss\n",
    "\n",
    "weights = os.listdir(MODEL_FOLDER)\n",
    "best_weights_path = os.path.join(MODEL_FOLDER, sorted(weights, key=sort_func)[0])\n",
    "MyCnn.load_weights(best_weights_path)"
   ]
  },
  {
   "cell_type": "markdown",
   "metadata": {
    "id": "16o6jNO8qTDL"
   },
   "source": [
    "Проверка качества, что корректные веса были загружены"
   ]
  },
  {
   "cell_type": "code",
   "execution_count": 13,
   "metadata": {
    "colab": {
     "base_uri": "https://localhost:8080/"
    },
    "id": "qPt4sMz7oeiX",
    "outputId": "7895e7bf-c411-4632-a72c-e7738120e93c"
   },
   "outputs": [
    {
     "name": "stdout",
     "output_type": "stream",
     "text": [
      "Качество на валидационном наборе данных: 0.7816813048933501\n"
     ]
    }
   ],
   "source": [
    "def get_accuracy(model, dataset):\n",
    "    preds = []\n",
    "    targets = []\n",
    "\n",
    "    for images, labels in dataset:\n",
    "        predictions = model.predict(images)\n",
    "        targets.append(labels)\n",
    "        preds.append(predictions)\n",
    "\n",
    "    return (np.argmax(np.concatenate(preds), axis=1) == np.concatenate(targets)).mean()\n",
    "\n",
    "print(f\"Качество на валидационном наборе данных: {get_accuracy(MyCnn, datasets['val'])}\")"
   ]
  },
  {
   "cell_type": "markdown",
   "metadata": {},
   "source": [
    "Качество на валидационном наборе данных: 0.844062947067239"
   ]
  },
  {
   "cell_type": "markdown",
   "metadata": {
    "id": "-uWveYFTrb-7"
   },
   "source": [
    "## 3.3. Проверка качества на тесте"
   ]
  },
  {
   "cell_type": "code",
   "execution_count": 14,
   "metadata": {
    "colab": {
     "base_uri": "https://localhost:8080/"
    },
    "id": "dGYezFTlrhgR",
    "outputId": "4167417f-6fb1-4358-c755-2d73e558f163"
   },
   "outputs": [
    {
     "name": "stdout",
     "output_type": "stream",
     "text": [
      "Качество на тестовом наборе данных: 0.6598240469208211\n"
     ]
    }
   ],
   "source": [
    "get_accuracy(MyCnn, datasets['test'])\n",
    "print(f\"Качество на тестовом наборе данных: {get_accuracy(MyCnn, datasets['test'])}\")"
   ]
  },
  {
   "cell_type": "markdown",
   "metadata": {},
   "source": [
    "Качество на тестовом наборе данных: 0.6763485477178424"
   ]
  },
  {
   "cell_type": "markdown",
   "metadata": {
    "id": "KzWXtv_9qtFe"
   },
   "source": [
    "## 3.4. Сохранение лучшей модели"
   ]
  },
  {
   "cell_type": "code",
   "execution_count": 15,
   "metadata": {
    "id": "HImya2-IqrxB"
   },
   "outputs": [],
   "source": [
    "MyCnn.save(MODEL_PATH)"
   ]
  },
  {
   "cell_type": "markdown",
   "metadata": {
    "id": "wDCMgnghtdbo"
   },
   "source": [
    "# 4. Тестирование модели на видео"
   ]
  },
  {
   "cell_type": "markdown",
   "metadata": {
    "id": "nvEAG16RmjhD"
   },
   "source": [
    "## 4.1. Скоринг всех видео"
   ]
  },
  {
   "cell_type": "code",
   "execution_count": 16,
   "metadata": {
    "id": "zHomIirr45_4"
   },
   "outputs": [],
   "source": [
    "def predict_video(model, video_path, th=0.011):\n",
    "    cap = cv2.VideoCapture(video_path)\n",
    "    batch = []\n",
    "    probs_0 = []  # accident\n",
    "    probs_1 = []  # no accident\n",
    "\n",
    "    while(cap.isOpened()):\n",
    "        ret, frame = cap.read()\n",
    "        if len(batch) < BATCH_SIZE and ret == True:\n",
    "            batch.append(cv2.resize(frame, IMAGE_SIZE))\n",
    "        elif len(batch) >= BATCH_SIZE or ret == False:\n",
    "            batch = tf.convert_to_tensor(batch, dtype=None, dtype_hint=None, name=None)\n",
    "            predictions = model.predict(batch)\n",
    "\n",
    "            probs_0.append(predictions[:,0])\n",
    "            probs_1.append(predictions[:,1])\n",
    "\n",
    "            batch = []\n",
    "\n",
    "        if ret == False:\n",
    "            break\n",
    "\n",
    "    cap.release()\n",
    "\n",
    "    probs_0, probs_1 = np.concatenate(probs_0), np.concatenate(probs_1)\n",
    "    return probs_0, probs_1"
   ]
  },
  {
   "cell_type": "markdown",
   "metadata": {
    "id": "tRiaNZXwm0jx"
   },
   "source": [
    "Рассмотрим подсчет двух эвристик, по которым можно сделать отсечку, и сказать, что на видео произошла авария. Первая - std для значений выше среднего, вторая - std для значений выше моды."
   ]
  },
  {
   "cell_type": "code",
   "execution_count": 17,
   "metadata": {
    "colab": {
     "base_uri": "https://localhost:8080/"
    },
    "id": "ZY1_EQmc5m4R",
    "outputId": "0d7fd444-1219-43a8-f6d6-88d55a81bd44",
    "scrolled": true
   },
   "outputs": [
    {
     "name": "stderr",
     "output_type": "stream",
     "text": [
      "  0%|          | 0/51 [01:31<?, ?it/s]\n"
     ]
    }
   ],
   "source": [
    "all_probs_0 = []\n",
    "all_probs_1 = []\n",
    "evr1 = []  # mean\n",
    "evr2 = []  # mode \n",
    "vid = []\n",
    "\n",
    "for video_name in tqdm(os.listdir(VIDEOS_FOLDER)):\n",
    "    if video_name.split('.')[-1]!='mp4':\n",
    "        continue\n",
    "\n",
    "    vid.append(video_name)\n",
    "    video_path = os.path.join(VIDEOS_FOLDER, video_name)\n",
    "    probs_0, probs_1 = predict_video(MyCnn, video_path)\n",
    "\n",
    "    all_probs_0.append(probs_0)\n",
    "    all_probs_1.append(probs_1)\n",
    "\n",
    "    evr1.append(probs_0[probs_0 >= np.mean(probs_0)].std())  # mean\n",
    "    evr2.append(probs_0[probs_0 >= mode(probs_0)[0][0]].std())  # mode\n",
    "    break"
   ]
  },
  {
   "cell_type": "markdown",
   "metadata": {
    "id": "63sqGEM9nSwj"
   },
   "source": [
    "## 4.2. Собираем набор данных с нашими эвристиками"
   ]
  },
  {
   "cell_type": "code",
   "execution_count": 18,
   "metadata": {
    "id": "RUnVFVbcYane"
   },
   "outputs": [],
   "source": [
    "import pandas as pd\n",
    "\n",
    "data_df = pd.read_csv(DATA_CSV)\n",
    "data_df['video'] = data_df['video'].astype(dtype=str)\n",
    "\n",
    "evs_data = np.stack([[i.split('.mp4')[0] for i in vid], evr1, evr2], axis=1)\n",
    "evr_df = pd.DataFrame(data = evs_data,\n",
    "                      columns = ['video', 'evr_mean', 'evr_mode'])\n",
    "\n",
    "merge_df = evr_df.merge(data_df, on='video').reset_index(drop=True)"
   ]
  },
  {
   "cell_type": "markdown",
   "metadata": {
    "id": "yFXCzeCGnv4A"
   },
   "source": [
    "## 4.3. Ищем лучшую отсечку для определения аварии"
   ]
  },
  {
   "cell_type": "code",
   "execution_count": 22,
   "metadata": {
    "colab": {
     "base_uri": "https://localhost:8080/"
    },
    "id": "FkngPWhRjcAG",
    "outputId": "ad551d24-4703-47db-cdaf-4019fa884399",
    "scrolled": true
   },
   "outputs": [],
   "source": [
    "def find_best_th(df):\n",
    "    best_sum_acc = 0\n",
    "    best_th = 0\n",
    "    best_type = None\n",
    "\n",
    "    for evr_type in ['evr_mode', 'evr_mean']:\n",
    "        crash = df[df['crash_happened']==1][[evr_type]].astype(dtype=float).to_numpy().flatten()\n",
    "        no_crash = df[df['crash_happened']==0][[evr_type]].astype(dtype=float).to_numpy().flatten()\n",
    "\n",
    "        for th in np.arange(0.005, 0.5, 0.001):\n",
    "            sum_acc = sum(crash >= th) / len(crash) + sum(no_crash < th)/len(no_crash)\n",
    "\n",
    "            if sum_acc >= best_sum_acc:\n",
    "                best_sum_acc = sum_acc\n",
    "                best_th = th\n",
    "                best_type = evr_type\n",
    "\n",
    "    return best_sum_acc, best_th, best_type\n",
    "\n",
    "\n",
    "find_best_th(merge_df)"
   ]
  },
  {
   "cell_type": "markdown",
   "metadata": {},
   "source": [
    "Результат выполнения кода выше:\n",
    "\n",
    "(1.7833333333333332, 0.011, 'evr_mode')"
   ]
  },
  {
   "cell_type": "markdown",
   "metadata": {
    "id": "HaljmeJen6MO"
   },
   "source": [
    "# Вывод\n",
    "\n",
    "Для скоринга видео необходимо провести видео через обученную ране модель TF, посчитать эвристику относительно моды, и по отсечке 0.011 определить, была ли авария на видео, или нет."
   ]
  }
 ],
 "metadata": {
  "colab": {
   "collapsed_sections": [],
   "name": "Baseline.ipynb",
   "provenance": []
  },
  "kernelspec": {
   "display_name": "Python 3",
   "language": "python",
   "name": "python3"
  },
  "language_info": {
   "codemirror_mode": {
    "name": "ipython",
    "version": 3
   },
   "file_extension": ".py",
   "mimetype": "text/x-python",
   "name": "python",
   "nbconvert_exporter": "python",
   "pygments_lexer": "ipython3",
   "version": "3.8.6"
  }
 },
 "nbformat": 4,
 "nbformat_minor": 1
}
