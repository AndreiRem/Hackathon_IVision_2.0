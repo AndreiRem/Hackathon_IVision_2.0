{
 "cells": [
  {
   "cell_type": "code",
   "execution_count": 1,
   "metadata": {
    "id": "W4rPthxP2gr4"
   },
   "outputs": [],
   "source": [
    "import os\n",
    "\n",
    "import cv2\n",
    "import numpy as np\n",
    "import pandas as pd\n",
    "from scipy.stats import mode\n",
    "\n",
    "import tensorflow as tf\n",
    "from tensorflow.keras import layers\n",
    "import matplotlib.pyplot as plt\n",
    "from tqdm import tqdm"
   ]
  },
  {
   "cell_type": "markdown",
   "metadata": {
    "id": "abgyDCa-rBZB"
   },
   "source": [
    "# 0. Настройка основных параметров"
   ]
  },
  {
   "cell_type": "code",
   "execution_count": 2,
   "metadata": {
    "id": "5ClXNeFerFP9"
   },
   "outputs": [],
   "source": [
    "# Main folder path\n",
    "PROJECT_FOLDER = '.'"
   ]
  },
  {
   "cell_type": "code",
   "execution_count": 3,
   "metadata": {
    "id": "kV6zvH1A5LAF"
   },
   "outputs": [],
   "source": [
    "# Other folders\n",
    "DATA_FOLDER = os.path.join(PROJECT_FOLDER, 'dataset')\n",
    "DATA_CSV = os.path.join(PROJECT_FOLDER, 'data.csv')\n",
    "\n",
    "DATASETS_FOLDERS = {\n",
    "    'train': os.path.join(DATA_FOLDER, 'train'),\n",
    "    'val': os.path.join(DATA_FOLDER, 'val'),\n",
    "    'test': os.path.join(DATA_FOLDER, 'test')\n",
    "}\n",
    "VIDEOS_FOLDER = os.path.join(DATA_FOLDER, 'videos') \n",
    "MODEL_FOLDER = os.path.join(PROJECT_FOLDER, 'model')\n",
    "if not os.path.exists(MODEL_FOLDER):\n",
    "    os.mkdir(MODEL_FOLDER)\n",
    "MODEL_PATH = os.path.join(PROJECT_FOLDER, 'ModelTF.h5')"
   ]
  },
  {
   "cell_type": "code",
   "execution_count": 4,
   "metadata": {
    "id": "rc-GHehq6Xrm"
   },
   "outputs": [],
   "source": [
    "# Model params\n",
    "BATCH_SIZE = 100\n",
    "IMAGE_SIZE = (250, 250)  # im_height, im_width"
   ]
  },
  {
   "cell_type": "markdown",
   "metadata": {
    "id": "Q3hJOfIr7GXv"
   },
   "source": [
    "# 1. Данные"
   ]
  },
  {
   "cell_type": "markdown",
   "metadata": {
    "id": "0__7KIjl7OAn"
   },
   "source": [
    "## 1.1. Загрузка данных"
   ]
  },
  {
   "cell_type": "code",
   "execution_count": 5,
   "metadata": {
    "colab": {
     "base_uri": "https://localhost:8080/"
    },
    "id": "-hIgVP477tQT",
    "outputId": "2e2581a1-4a55-4e9b-b50a-5c2dc8cf855c"
   },
   "outputs": [
    {
     "data": {
      "text/plain": [
       "{'train': './dataset/train', 'val': './dataset/val', 'test': './dataset/test'}"
      ]
     },
     "execution_count": 5,
     "metadata": {},
     "output_type": "execute_result"
    }
   ],
   "source": [
    "# Create dict with dataset folders\n",
    "for k, v in DATASETS_FOLDERS.items():\n",
    "    if not os.path.exists(v):\n",
    "        print(f\"Dataset '{k}' with folder '{v}' doesn't exists!\")\n",
    "\n",
    "DATASETS_FOLDERS"
   ]
  },
  {
   "cell_type": "code",
   "execution_count": 6,
   "metadata": {
    "colab": {
     "base_uri": "https://localhost:8080/"
    },
    "id": "LnN1ju7E7Ci5",
    "outputId": "157356f5-6531-43ad-bd19-717d1e07ce79"
   },
   "outputs": [
    {
     "name": "stdout",
     "output_type": "stream",
     "text": [
      "Found 2129 files belonging to 2 classes.\n",
      "Found 797 files belonging to 2 classes.\n",
      "Found 341 files belonging to 2 classes.\n"
     ]
    },
    {
     "data": {
      "text/plain": [
       "{'train': <BatchDataset shapes: ((None, 250, 250, 3), (None,)), types: (tf.float32, tf.int32)>,\n",
       " 'val': <BatchDataset shapes: ((None, 250, 250, 3), (None,)), types: (tf.float32, tf.int32)>,\n",
       " 'test': <BatchDataset shapes: ((None, 250, 250, 3), (None,)), types: (tf.float32, tf.int32)>}"
      ]
     },
     "execution_count": 6,
     "metadata": {},
     "output_type": "execute_result"
    }
   ],
   "source": [
    "# Create datasets: 'train', 'val' and 'test'\n",
    "datasets = {}\n",
    "\n",
    "for dataset_type, dataset_folder in DATASETS_FOLDERS.items():\n",
    "    datasets[dataset_type] = tf.keras.preprocessing.image_dataset_from_directory(\n",
    "        dataset_folder,\n",
    "        seed=42,\n",
    "        image_size = IMAGE_SIZE,\n",
    "        batch_size = BATCH_SIZE\n",
    "    )\n",
    "\n",
    "datasets"
   ]
  },
  {
   "cell_type": "markdown",
   "metadata": {
    "id": "HzmRDjNx93Pz"
   },
   "source": [
    "## 1.2. Настройка наборов данных"
   ]
  },
  {
   "cell_type": "code",
   "execution_count": 7,
   "metadata": {
    "id": "d9CzoBLS917m"
   },
   "outputs": [],
   "source": [
    "class_names = datasets['train'].class_names\n",
    "\n",
    "AUTOTUNE = tf.data.experimental.AUTOTUNE\n",
    "datasets['train'] = datasets['train'].cache().prefetch(buffer_size=AUTOTUNE)\n",
    "datasets['test'] = datasets['test'].prefetch(buffer_size=AUTOTUNE)"
   ]
  },
  {
   "cell_type": "markdown",
   "metadata": {
    "id": "rYm_tbfR7NiY"
   },
   "source": [
    "# 2. Модель"
   ]
  },
  {
   "cell_type": "markdown",
   "metadata": {
    "id": "SQUcpY8LpKMH"
   },
   "source": [
    "Добавим для модели дополнительно 3 аугментации: GaussianNoise, горизонтальный RandomFlip и RandomContrast."
   ]
  },
  {
   "cell_type": "code",
   "execution_count": 8,
   "metadata": {
    "id": "VAA6Uc7-7Dab"
   },
   "outputs": [],
   "source": [
    "MyCnn = tf.keras.models.Sequential([\n",
    "  layers.GaussianNoise(0.2),\n",
    "  layers.RandomFlip(mode='horizontal'),\n",
    "  layers.RandomContrast(factor=[0.2, 0.4]),\n",
    "  \n",
    "  layers.BatchNormalization(),\n",
    "  layers.Conv2D(32, 3, activation='relu'),\n",
    "  layers.MaxPooling2D(),\n",
    "  layers.Conv2D(64, 3, activation='relu'),\n",
    "  layers.MaxPooling2D(),\n",
    "  layers.Conv2D(128, 3, activation='relu'),\n",
    "  layers.MaxPooling2D(),\n",
    "  layers.Flatten(),\n",
    "  layers.Dense(256, activation='relu'),\n",
    "  layers.Dense(len(class_names), activation= 'softmax')\n",
    "])\n",
    "\n",
    "MyCnn.compile(optimizer='adam',loss='sparse_categorical_crossentropy', metrics=['accuracy'])"
   ]
  },
  {
   "cell_type": "markdown",
   "metadata": {
    "id": "BnJ5GhRO-Pha"
   },
   "source": [
    "# 3. Обучение"
   ]
  },
  {
   "cell_type": "markdown",
   "metadata": {
    "id": "3aok0jA6pczw"
   },
   "source": [
    "## 3.1. Процесс обучения"
   ]
  },
  {
   "cell_type": "markdown",
   "metadata": {
    "id": "rt06_qf3pmou"
   },
   "source": [
    "Настроим сохранение модели по максимальному значению метрики `val_accuracy`."
   ]
  },
  {
   "cell_type": "code",
   "execution_count": 9,
   "metadata": {
    "id": "pRJZm1OTvIm7"
   },
   "outputs": [],
   "source": [
    "checkpoint_filepath = os.path.join(\n",
    "    MODEL_FOLDER, 'weights.epoch:{epoch:02d}-val_loss:{val_loss:.2f}-val_accuracy:{val_accuracy:.2f}.h5'\n",
    ")\n",
    "model_checkpoint_callback = tf.keras.callbacks.ModelCheckpoint(\n",
    "    filepath=checkpoint_filepath,\n",
    "    monitor='val_accuracy',\n",
    "    mode='max',\n",
    "    save_best_only=True)"
   ]
  },
  {
   "cell_type": "markdown",
   "metadata": {
    "id": "fvGZuKxKpzgp"
   },
   "source": [
    "Процесс обучения классификатора"
   ]
  },
  {
   "cell_type": "code",
   "execution_count": 23,
   "metadata": {
    "colab": {
     "base_uri": "https://localhost:8080/"
    },
    "id": "V5cfCeYt-M1m",
    "outputId": "085faa04-e290-4a0d-b88b-57812feeb703"
   },
   "outputs": [],
   "source": [
    "retVal = MyCnn.fit(datasets['train'],\n",
    "                   validation_data = datasets['val'],\n",
    "                   epochs = 20,\n",
    "                   callbacks=[model_checkpoint_callback])"
   ]
  },
  {
   "attachments": {
    "image-2.png": {
     "image/png": "[encoded data removed]"
    },
    "image.png": {
     "image/png": "[encoded data removed]"
    }
   },
   "cell_type": "markdown",
   "metadata": {
    "id": "GGrSm_TultmL"
   },
   "source": [
    "История обучения модели:\n",
    "```\n",
    "\n",
    "Epoch 1/20\n",
    "14/14 [==============================] - 216s 15s/step - loss: 3.7267 - accuracy: 0.6861 - val_loss: 1.3614 - val_accuracy: 0.8169\n",
    "Epoch 2/20\n",
    "14/14 [==============================] - 210s 15s/step - loss: 0.4199 - accuracy: 0.8064 - val_loss: 0.7579 - val_accuracy: 0.8169\n",
    "Epoch 3/20\n",
    "14/14 [==============================] - 218s 16s/step - loss: 0.3155 - accuracy: 0.8445 - val_loss: 1.0112 - val_accuracy: 0.8169\n",
    "Epoch 4/20\n",
    "14/14 [==============================] - 209s 15s/step - loss: 0.2727 - accuracy: 0.8430 - val_loss: 0.6529 - val_accuracy: 0.8169\n",
    "Epoch 5/20\n",
    "14/14 [==============================] - 213s 15s/step - loss: 0.2459 - accuracy: 0.8595 - val_loss: 0.8130 - val_accuracy: 0.8169\n",
    "Epoch 6/20\n",
    "14/14 [==============================] - 217s 16s/step - loss: 0.2387 - accuracy: 0.8617 - val_loss: 0.7810 - val_accuracy: 0.8169\n",
    "Epoch 7/20\n",
    "14/14 [==============================] - 208s 15s/step - loss: 0.2208 - accuracy: 0.8827 - val_loss: 0.7654 - val_accuracy: 0.8083\n",
    "Epoch 8/20\n",
    "14/14 [==============================] - 215s 16s/step - loss: 0.1905 - accuracy: 0.9111 - val_loss: 0.8522 - val_accuracy: 0.7353\n",
    "Epoch 9/20\n",
    "14/14 [==============================] - 212s 15s/step - loss: 0.1809 - accuracy: 0.9088 - val_loss: 0.9512 - val_accuracy: 0.8441\n",
    "Epoch 10/20\n",
    "14/14 [==============================] - 210s 15s/step - loss: 0.1708 - accuracy: 0.9185 - val_loss: 0.9027 - val_accuracy: 0.7482\n",
    "Epoch 11/20\n",
    "14/14 [==============================] - 218s 16s/step - loss: 0.1700 - accuracy: 0.9170 - val_loss: 0.9019 - val_accuracy: 0.6295\n",
    "Epoch 12/20\n",
    "14/14 [==============================] - 213s 15s/step - loss: 0.1268 - accuracy: 0.9462 - val_loss: 1.1481 - val_accuracy: 0.6695\n",
    "Epoch 13/20\n",
    "14/14 [==============================] - 212s 15s/step - loss: 0.1198 - accuracy: 0.9544 - val_loss: 1.1899 - val_accuracy: 0.6423\n",
    "Epoch 14/20\n",
    "14/14 [==============================] - 210s 15s/step - loss: 0.1091 - accuracy: 0.9596 - val_loss: 1.4326 - val_accuracy: 0.6753\n",
    "Epoch 15/20\n",
    "14/14 [==============================] - 209s 15s/step - loss: 0.0979 - accuracy: 0.9589 - val_loss: 1.4714 - val_accuracy: 0.6681\n",
    "Epoch 16/20\n",
    "14/14 [==============================] - 215s 16s/step - loss: 0.0883 - accuracy: 0.9656 - val_loss: 1.4901 - val_accuracy: 0.6638\n",
    "Epoch 17/20\n",
    "14/14 [==============================] - 209s 15s/step - loss: 0.0888 - accuracy: 0.9567 - val_loss: 1.2664 - val_accuracy: 0.6767\n",
    "Epoch 18/20\n",
    "14/14 [==============================] - 211s 15s/step - loss: 0.0987 - accuracy: 0.9581 - val_loss: 1.3851 - val_accuracy: 0.5637\n",
    "Epoch 19/20\n",
    "14/14 [==============================] - 213s 15s/step - loss: 0.0724 - accuracy: 0.9694 - val_loss: 1.6362 - val_accuracy: 0.6166\n",
    "Epoch 20/20\n",
    "14/14 [==============================] - 210s 15s/step - loss: 0.0621 - accuracy: 0.9723 - val_loss: 1.6325 - val_accuracy: 0.5851\n",
    "```\n",
    "\n",
    "![image.png](attachment:image.png)\n",
    "![image-2.png](attachment:image-2.png)"
   ]
  },
  {
   "cell_type": "code",
   "execution_count": 11,
   "metadata": {
    "colab": {
     "base_uri": "https://localhost:8080/",
     "height": 513
    },
    "id": "6_wFnOG_s5QJ",
    "outputId": "b7033aa9-430c-4c20-ad9d-ccc51b1c86d5"
   },
   "outputs": [
    {
     "data": {
      "image/png": "[encoded data removed]",
      "text/plain": [
       "<Figure size 432x288 with 1 Axes>"
      ]
     },
     "metadata": {
      "needs_background": "light"
     },
     "output_type": "display_data"
    },
    {
     "data": {
      "image/png": "[encoded data removed]",
      "text/plain": [
       "<Figure size 432x288 with 1 Axes>"
      ]
     },
     "metadata": {
      "needs_background": "light"
     },
     "output_type": "display_data"
    }
   ],
   "source": [
    "# Train data plot\n",
    "plt.plot(retVal.history['loss'], label = 'training loss')\n",
    "plt.plot(retVal.history['accuracy'], label = 'training accuracy')\n",
    "plt.grid(True)\n",
    "plt.legend()\n",
    "plt.show()\n",
    "\n",
    "# Val data plot\n",
    "plt.plot(retVal.history['val_loss'], label = 'validation loss')\n",
    "plt.plot(retVal.history['val_accuracy'], label = 'validation accuracy')\n",
    "plt.grid(True)\n",
    "plt.legend()\n",
    "plt.show()"
   ]
  },
  {
   "cell_type": "markdown",
   "metadata": {
    "id": "32a4bWICqJzt"
   },
   "source": [
    "## 3.2. Загрузка лучших весов"
   ]
  },
  {
   "cell_type": "code",
   "execution_count": 12,
   "metadata": {
    "id": "yNFiLOBFLs3f"
   },
   "outputs": [],
   "source": [
    "def sort_func(x):\n",
    "    _, val_loss, val_acc = x[:-3].split('-')\n",
    "    val_loss = float(val_loss.split(':')[-1])\n",
    "    val_acc = float(val_acc.split(':')[-1])\n",
    "\n",
    "    return 1-val_acc, val_loss\n",
    "\n",
    "weights = os.listdir(MODEL_FOLDER)\n",
    "best_weights_path = os.path.join(MODEL_FOLDER, sorted(weights, key=sort_func)[0])\n",
    "MyCnn.load_weights(best_weights_path)"
   ]
  },
  {
   "cell_type": "markdown",
   "metadata": {
    "id": "16o6jNO8qTDL"
   },
   "source": [
    "Проверка качества, что корректные веса были загружены"
   ]
  },
  {
   "cell_type": "code",
   "execution_count": 13,
   "metadata": {
    "colab": {
     "base_uri": "https://localhost:8080/"
    },
    "id": "qPt4sMz7oeiX",
    "outputId": "7895e7bf-c411-4632-a72c-e7738120e93c"
   },
   "outputs": [
    {
     "name": "stdout",
     "output_type": "stream",
     "text": [
      "Качество на валидационном наборе данных: 0.7816813048933501\n"
     ]
    }
   ],
   "source": [
    "def get_accuracy(model, dataset):\n",
    "    preds = []\n",
    "    targets = []\n",
    "\n",
    "    for images, labels in dataset:\n",
    "        predictions = model.predict(images)\n",
    "        targets.append(labels)\n",
    "        preds.append(predictions)\n",
    "\n",
    "    return (np.argmax(np.concatenate(preds), axis=1) == np.concatenate(targets)).mean()\n",
    "\n",
    "print(f\"Качество на валидационном наборе данных: {get_accuracy(MyCnn, datasets['val'])}\")"
   ]
  },
  {
   "cell_type": "markdown",
   "metadata": {},
   "source": [
    "Качество на валидационном наборе данных: 0.844062947067239"
   ]
  },
  {
   "cell_type": "markdown",
   "metadata": {
    "id": "-uWveYFTrb-7"
   },
   "source": [
    "## 3.3. Проверка качества на тесте"
   ]
  },
  {
   "cell_type": "code",
   "execution_count": 14,
   "metadata": {
    "colab": {
     "base_uri": "https://localhost:8080/"
    },
    "id": "dGYezFTlrhgR",
    "outputId": "4167417f-6fb1-4358-c755-2d73e558f163"
   },
   "outputs": [
    {
     "name": "stdout",
     "output_type": "stream",
     "text": [
      "Качество на тестовом наборе данных: 0.6598240469208211\n"
     ]
    }
   ],
   "source": [
    "get_accuracy(MyCnn, datasets['test'])\n",
    "print(f\"Качество на тестовом наборе данных: {get_accuracy(MyCnn, datasets['test'])}\")"
   ]
  },
  {
   "cell_type": "markdown",
   "metadata": {},
   "source": [
    "Качество на тестовом наборе данных: 0.6763485477178424"
   ]
  },
  {
   "cell_type": "markdown",
   "metadata": {
    "id": "KzWXtv_9qtFe"
   },
   "source": [
    "## 3.4. Сохранение лучшей модели"
   ]
  },
  {
   "cell_type": "code",
   "execution_count": 15,
   "metadata": {
    "id": "HImya2-IqrxB"
   },
   "outputs": [],
   "source": [
    "MyCnn.save(MODEL_PATH)"
   ]
  },
  {
   "cell_type": "markdown",
   "metadata": {
    "id": "wDCMgnghtdbo"
   },
   "source": [
    "# 4. Тестирование модели на видео"
   ]
  },
  {
   "cell_type": "markdown",
   "metadata": {
    "id": "nvEAG16RmjhD"
   },
   "source": [
    "## 4.1. Скоринг всех видео"
   ]
  },
  {
   "cell_type": "code",
   "execution_count": 16,
   "metadata": {
    "id": "zHomIirr45_4"
   },
   "outputs": [],
   "source": [
    "def predict_video(model, video_path, th=0.011):\n",
    "    cap = cv2.VideoCapture(video_path)\n",
    "    batch = []\n",
    "    probs_0 = []  # accident\n",
    "    probs_1 = []  # no accident\n",
    "\n",
    "    while(cap.isOpened()):\n",
    "        ret, frame = cap.read()\n",
    "        if len(batch) < BATCH_SIZE and ret == True:\n",
    "            batch.append(cv2.resize(frame, IMAGE_SIZE))\n",
    "        elif len(batch) >= BATCH_SIZE or ret == False:\n",
    "            batch = tf.convert_to_tensor(batch, dtype=None, dtype_hint=None, name=None)\n",
    "            predictions = model.predict(batch)\n",
    "\n",
    "            probs_0.append(predictions[:,0])\n",
    "            probs_1.append(predictions[:,1])\n",
    "\n",
    "            batch = []\n",
    "\n",
    "        if ret == False:\n",
    "            break\n",
    "\n",
    "    cap.release()\n",
    "\n",
    "    probs_0, probs_1 = np.concatenate(probs_0), np.concatenate(probs_1)\n",
    "    return probs_0, probs_1"
   ]
  },
  {
   "cell_type": "markdown",
   "metadata": {
    "id": "tRiaNZXwm0jx"
   },
   "source": [
    "Рассмотрим подсчет двух эвристик, по которым можно сделать отсечку, и сказать, что на видео произошла авария. Первая - std для значений выше среднего, вторая - std для значений выше моды."
   ]
  },
  {
   "cell_type": "code",
   "execution_count": 17,
   "metadata": {
    "colab": {
     "base_uri": "https://localhost:8080/"
    },
    "id": "ZY1_EQmc5m4R",
    "outputId": "0d7fd444-1219-43a8-f6d6-88d55a81bd44",
    "scrolled": true
   },
   "outputs": [
    {
     "name": "stderr",
     "output_type": "stream",
     "text": [
      "  0%|          | 0/51 [01:31<?, ?it/s]\n"
     ]
    }
   ],
   "source": [
    "all_probs_0 = []\n",
    "all_probs_1 = []\n",
    "evr1 = []  # mean\n",
    "evr2 = []  # mode \n",
    "vid = []\n",
    "\n",
    "for video_name in tqdm(os.listdir(VIDEOS_FOLDER)):\n",
    "    if video_name.split('.')[-1]!='mp4':\n",
    "        continue\n",
    "\n",
    "    vid.append(video_name)\n",
    "    video_path = os.path.join(VIDEOS_FOLDER, video_name)\n",
    "    probs_0, probs_1 = predict_video(MyCnn, video_path)\n",
    "\n",
    "    all_probs_0.append(probs_0)\n",
    "    all_probs_1.append(probs_1)\n",
    "\n",
    "    evr1.append(probs_0[probs_0 >= np.mean(probs_0)].std())  # mean\n",
    "    evr2.append(probs_0[probs_0 >= mode(probs_0)[0][0]].std())  # mode\n",
    "    break"
   ]
  },
  {
   "cell_type": "markdown",
   "metadata": {
    "id": "63sqGEM9nSwj"
   },
   "source": [
    "## 4.2. Собираем набор данных с нашими эвристиками"
   ]
  },
  {
   "cell_type": "code",
   "execution_count": 18,
   "metadata": {
    "id": "RUnVFVbcYane"
   },
   "outputs": [],
   "source": [
    "import pandas as pd\n",
    "\n",
    "data_df = pd.read_csv(DATA_CSV)\n",
    "data_df['video'] = data_df['video'].astype(dtype=str)\n",
    "\n",
    "evs_data = np.stack([[i.split('.mp4')[0] for i in vid], evr1, evr2], axis=1)\n",
    "evr_df = pd.DataFrame(data = evs_data,\n",
    "                      columns = ['video', 'evr_mean', 'evr_mode'])\n",
    "\n",
    "merge_df = evr_df.merge(data_df, on='video').reset_index(drop=True)"
   ]
  },
  {
   "cell_type": "markdown",
   "metadata": {
    "id": "yFXCzeCGnv4A"
   },
   "source": [
    "## 4.3. Ищем лучшую отсечку для определения аварии"
   ]
  },
  {
   "cell_type": "code",
   "execution_count": 22,
   "metadata": {
    "colab": {
     "base_uri": "https://localhost:8080/"
    },
    "id": "FkngPWhRjcAG",
    "outputId": "ad551d24-4703-47db-cdaf-4019fa884399",
    "scrolled": true
   },
   "outputs": [],
   "source": [
    "def find_best_th(df):\n",
    "    best_sum_acc = 0\n",
    "    best_th = 0\n",
    "    best_type = None\n",
    "\n",
    "    for evr_type in ['evr_mode', 'evr_mean']:\n",
    "        crash = df[df['crash_happened']==1][[evr_type]].astype(dtype=float).to_numpy().flatten()\n",
    "        no_crash = df[df['crash_happened']==0][[evr_type]].astype(dtype=float).to_numpy().flatten()\n",
    "\n",
    "        for th in np.arange(0.005, 0.5, 0.001):\n",
    "            sum_acc = sum(crash >= th) / len(crash) + sum(no_crash < th)/len(no_crash)\n",
    "\n",
    "            if sum_acc >= best_sum_acc:\n",
    "                best_sum_acc = sum_acc\n",
    "                best_th = th\n",
    "                best_type = evr_type\n",
    "\n",
    "    return best_sum_acc, best_th, best_type\n",
    "\n",
    "\n",
    "find_best_th(merge_df)"
   ]
  },
  {
   "cell_type": "markdown",
   "metadata": {},
   "source": [
    "Результат выполнения кода выше:\n",
    "\n",
    "(1.7833333333333332, 0.011, 'evr_mode')"
   ]
  },
  {
   "cell_type": "markdown",
   "metadata": {
    "id": "HaljmeJen6MO"
   },
   "source": [
    "# Вывод\n",
    "\n",
    "Для скоринга видео необходимо провести видео через обученную ране модель TF, посчитать эвристику относительно моды, и по отсечке 0.011 определить, была ли авария на видео, или нет."
   ]
  }
 ],
 "metadata": {
  "colab": {
   "collapsed_sections": [],
   "name": "Baseline.ipynb",
   "provenance": []
  },
  "kernelspec": {
   "display_name": "Python 3",
   "language": "python",
   "name": "python3"
  },
  "language_info": {
   "codemirror_mode": {
    "name": "ipython",
    "version": 3
   },
   "file_extension": ".py",
   "mimetype": "text/x-python",
   "name": "python",
   "nbconvert_exporter": "python",
   "pygments_lexer": "ipython3",
   "version": "3.8.6"
  }
 },
 "nbformat": 4,
 "nbformat_minor": 1
}
